{
  "nbformat": 4,
  "nbformat_minor": 0,
  "metadata": {
    "colab": {
      "provenance": []
    },
    "kernelspec": {
      "name": "python3",
      "display_name": "Python 3"
    },
    "language_info": {
      "name": "python"
    }
  },
  "cells": [
    {
      "cell_type": "code",
      "source": [
        "BOARD_EMPTY = 0\n",
        "BOARD_PLAYER_X = 1\n",
        "BOARD_PLAYER_O = -1"
      ],
      "metadata": {
        "id": "iLzZM3rnWqDk"
      },
      "execution_count": 2,
      "outputs": []
    },
    {
      "cell_type": "code",
      "source": [
        "# Commented out the invalid line as it is not valid Python and is causing the error.\n",
        "# [ 0 , 0 , 0 , 0 , 0 , 0 , 0 , 0 , 0 ]\n",
        "# ^   ^   ^   ^   ^   ^   ^   ^   ^\n",
        "\n",
        "# Valid Python list\n",
        "grid = [0, 0, 0, 0, 0, 0, 0, 0, 0]\n",
        "\n",
        "# Positions mapping\n",
        "# tl  tm  tr  ml  mm  mr  bl  bm  br\n",
        "# t ~ top\n",
        "# m ~ middle\n",
        "# b ~ bottom\n",
        "# l ~ left\n",
        "# r ~ right\n",
        "\n",
        "# Defining positions\n",
        "positions = {\n",
        "    \"tl\": 0, \"tm\": 1, \"tr\": 2,\n",
        "    \"ml\": 3, \"mm\": 4, \"mr\": 5,\n",
        "    \"bl\": 6, \"bm\": 7, \"br\": 8\n",
        "}\n",
        "\n",
        "# Example function to update a position\n",
        "def update_position(grid, position, value):\n",
        "    if position in positions:\n",
        "        grid[positions[position]] = value\n",
        "    else:\n",
        "        print(\"Invalid position\")\n",
        "\n",
        "# Example usage\n",
        "update_position(grid, \"mm\", 1)\n",
        "print(grid)\n",
        "\n",
        "# Function to display the grid in a 3x3 format\n",
        "def display_grid(grid):\n",
        "    for i in range(0, 9, 3):\n",
        "        print(grid[i:i+3])\n",
        "\n",
        "# Display the grid\n",
        "display_grid(grid)\n"
      ],
      "metadata": {
        "colab": {
          "base_uri": "https://localhost:8080/"
        },
        "id": "nNgm1J7YXdkq",
        "outputId": "8eb2ea23-86ab-4f63-eefa-3e19dc418677"
      },
      "execution_count": 8,
      "outputs": [
        {
          "output_type": "stream",
          "name": "stdout",
          "text": [
            "[0, 0, 0, 0, 1, 0, 0, 0, 0]\n",
            "[0, 0, 0]\n",
            "[0, 1, 0]\n",
            "[0, 0, 0]\n"
          ]
        }
      ]
    },
    {
      "cell_type": "code",
      "source": [
        "def print_board(s):\n",
        "  def convert(num):\n",
        "    if num == BOARD_PLAYER_X:\n",
        "      return 'X'\n",
        "    if num == BOARD_PLAYER_O:\n",
        "      return 'O'\n",
        "    return '_'\n",
        "\n",
        "  i = 0\n",
        "  for _ in range(3):\n",
        "    for _ in range(3):\n",
        "      print(convert(s[i]), end=' ')\n",
        "      i += 1\n",
        "    print()"
      ],
      "metadata": {
        "id": "9E8YL90BX28o"
      },
      "execution_count": 9,
      "outputs": []
    },
    {
      "cell_type": "code",
      "source": [
        "from collections import Counter\n",
        "\n",
        "def player(s):\n",
        "  counter = Counter(s)\n",
        "  x_places = counter[1]\n",
        "  o_places = counter[-1]\n",
        "\n",
        "  if x_places + o_places == 9:\n",
        "    return None\n",
        "  elif x_places > o_places:\n",
        "    return BOARD_PLAYER_O\n",
        "  else:\n",
        "    return BOARD_PLAYER_X"
      ],
      "metadata": {
        "id": "XBSCtyDqYDOc"
      },
      "execution_count": 10,
      "outputs": []
    },
    {
      "cell_type": "code",
      "source": [
        "def actions(s):\n",
        "  play = player(s)\n",
        "  actions_list = [(play, i) for i in range(len(s)) if s[i] == BOARD_EMPTY]\n",
        "  return actions_list"
      ],
      "metadata": {
        "id": "TR01BVA4YF8a"
      },
      "execution_count": 11,
      "outputs": []
    },
    {
      "cell_type": "code",
      "source": [
        "def result(s, a):\n",
        "  (play, index) = a\n",
        "  s_copy = s.copy()\n",
        "  s_copy[index] = play\n",
        "  return s_copy"
      ],
      "metadata": {
        "id": "rDvFH9xTYIeb"
      },
      "execution_count": 12,
      "outputs": []
    },
    {
      "cell_type": "code",
      "source": [
        "def terminal(s):\n",
        "  for i in range(3):\n",
        "    # Checking if a row is filled and equal.\n",
        "    if s[3 * i] == s[3 * i + 1] == s[3 * i + 2] != BOARD_EMPTY:\n",
        "      return s[3 * i]\n",
        "    # Checking if a column is filled and equal.\n",
        "    if s[i] == s[i + 3] == s[i + 6] != BOARD_EMPTY:\n",
        "      return s[i]\n",
        "\n",
        "  # Checking if a diagonal is filled and equal.\n",
        "  if s[0] == s[4] == s[8] != BOARD_EMPTY:\n",
        "    return s[0]\n",
        "  if s[2] == s[4] == s[6] != BOARD_EMPTY:\n",
        "    return s[2]\n",
        "\n",
        "  # Checking if the game has no more moves available\n",
        "  if player(s) is None:\n",
        "    return 0\n",
        "\n",
        "  # Return None if none of the previous conditions satisfy.\n",
        "  return None"
      ],
      "metadata": {
        "id": "lMjN7NRBYKfU"
      },
      "execution_count": 13,
      "outputs": []
    },
    {
      "cell_type": "code",
      "source": [
        "def utility(s):\n",
        "  term = terminal(s)\n",
        "  # Return who wins the game if the game has terminated\n",
        "  if term is not None:\n",
        "    return term\n",
        "\n",
        "  # Get the list of actions available\n",
        "  action_list = actions(s)\n",
        "  utils = []\n",
        "  for action in action_list:\n",
        "    # Create a new state applying the action to current state\n",
        "    new_s = result(s, action)\n",
        "    # Add the score of the new state to a list\n",
        "    utils.append(utility(new_s))\n",
        "\n",
        "  score = utils[0]\n",
        "  play = player(s)\n",
        "  # Calculate the max score if X is playing\n",
        "  if play == BOARD_PLAYER_X:\n",
        "    for i in range(len(utils)):\n",
        "      if utils[i] > score:\n",
        "        score = utils[i]\n",
        "  # Calculate the min score if O is playing\n",
        "  else:\n",
        "    for i in range(len(utils)):\n",
        "      if utils[i] < score:\n",
        "        score = utils[i]\n",
        "  return score"
      ],
      "metadata": {
        "id": "7yP8HeDlYM3F"
      },
      "execution_count": 14,
      "outputs": []
    },
    {
      "cell_type": "code",
      "source": [
        "def utility(s, cost):\n",
        "  term = terminal(s)\n",
        "  if term is not None:\n",
        "    # Return the cost of reaching the terminal state\n",
        "    return (term, cost)\n",
        "\n",
        "  action_list = actions(s)\n",
        "  utils = []\n",
        "  for action in action_list:\n",
        "    new_s = result(s, action)\n",
        "    # Every recursion will be an increment in the cost (depth)\n",
        "    utils.append(utility(new_s, cost + 1))\n",
        "\n",
        "  # Remember the associated cost with the score of the state.\n",
        "  score = utils[0][0]\n",
        "  idx_cost = utils[0][1]\n",
        "  play = player(s)\n",
        "  if play == BOARD_PLAYER_X:\n",
        "    for i in range(len(utils)):\n",
        "     if utils[i][0] > score:\n",
        "       score = utils[i][0]\n",
        "       idx_cost = utils[i][1]\n",
        "  else:\n",
        "    for i in range(len(utils)):\n",
        "      if utils[i][0] < score:\n",
        "        score = utils[i][0]\n",
        "        idx_cost = utils[i][1]\n",
        "\n",
        "  # Return the score with the associated cost.\n",
        "  return (score, idx_cost)"
      ],
      "metadata": {
        "id": "uuY8PZC0YRc5"
      },
      "execution_count": 15,
      "outputs": []
    },
    {
      "cell_type": "code",
      "source": [
        "def minimax(s):\n",
        "  action_list = actions(s)\n",
        "  utils = []\n",
        "  for action in action_list:\n",
        "    new_s = result(s, action)\n",
        "    utils.append((action, utility(new_s, 1)))\n",
        "  # Each item in utils contains the action associated\n",
        "  # the score and \"cost\" of that action.\n",
        "\n",
        "  # if utils has no objects, then return a default action and utility\n",
        "  if len(utils) == 0:\n",
        "    return ((0, 0), (0, 0))\n",
        "\n",
        "  # Sort the list in ascending order of cost.\n",
        "  sorted_list = sorted(utils, key=lambda l : l[0][1])\n",
        "  # Since the computer shall be Player O,\n",
        "  # It is safe to return the object with minimum score.\n",
        "  action = min(sorted_list, key = lambda l : l[1])\n",
        "  return action"
      ],
      "metadata": {
        "id": "ckOHXz_3YVFw"
      },
      "execution_count": 16,
      "outputs": []
    },
    {
      "cell_type": "code",
      "source": [
        "if __name__ == '__main__':\n",
        "  # Initializing the state\n",
        "  s = [BOARD_EMPTY for _ in range(9)]\n",
        "  print('|------- WELCOME TO TIC TAC TOE -----------|')\n",
        "  print('You are X while the Computer is O')\n",
        "\n",
        "  # Run the program while the game is not terminated\n",
        "  while terminal(s) is None:\n",
        "    play = player(s)\n",
        "    if play == BOARD_PLAYER_X:\n",
        "      # Take input from user\n",
        "      print('\\n\\nIt is your turn', end='\\n\\n')\n",
        "      x = int(input('Enter the x-coordinate [0-2]: '))\n",
        "      y = int(input('Enter the y-coordinate [0-2]: '))\n",
        "      index = 3 * x + y\n",
        "\n",
        "      if not s[index] == BOARD_EMPTY:\n",
        "        print('That coordinate is already taken. Please try again.')\n",
        "        continue\n",
        "\n",
        "      # Apply the action and print the board\n",
        "      s = result(s, (BOARD_PLAYER_X, index))\n",
        "      print_board(s)\n",
        "    else:\n",
        "      print('\\n\\nThe is computer is playing its turn')\n",
        "      # Get the action by running the minimax algorithm\n",
        "      action = minimax(s)\n",
        "      # Apply the returned action to the state and print the board\n",
        "      s = result(s, action[0])\n",
        "      print_board(s)\n",
        "\n",
        "  # We know that terminal(s) is not None\n",
        "  # determine the winner\n",
        "  winner = terminal(s)\n",
        "  if winner == BOARD_PLAYER_X:\n",
        "    print(\"You have won!\")\n",
        "  elif winner == BOARD_PLAYER_O:\n",
        "    print(\"You have lost!\")\n",
        "  else:\n",
        "    print(\"It's a tie.\")"
      ],
      "metadata": {
        "colab": {
          "base_uri": "https://localhost:8080/"
        },
        "id": "w0B5QSLnYafm",
        "outputId": "90ef64a6-35e9-4175-db4c-e8d3703dd31c"
      },
      "execution_count": 18,
      "outputs": [
        {
          "output_type": "stream",
          "name": "stdout",
          "text": [
            "|------- WELCOME TO TIC TAC TOE -----------|\n",
            "You are X while the Computer is O\n",
            "\n",
            "\n",
            "It is your turn\n",
            "\n",
            "Enter the x-coordinate [0-2]: 1\n",
            "Enter the y-coordinate [0-2]: 0\n",
            "_ _ _ \n",
            "X _ _ \n",
            "_ _ _ \n",
            "\n",
            "\n",
            "The is computer is playing its turn\n",
            "O _ _ \n",
            "X _ _ \n",
            "_ _ _ \n",
            "\n",
            "\n",
            "It is your turn\n",
            "\n",
            "Enter the x-coordinate [0-2]: 1\n",
            "Enter the y-coordinate [0-2]: 2\n",
            "O _ _ \n",
            "X _ X \n",
            "_ _ _ \n",
            "\n",
            "\n",
            "The is computer is playing its turn\n",
            "O _ _ \n",
            "X O X \n",
            "_ _ _ \n",
            "\n",
            "\n",
            "It is your turn\n",
            "\n",
            "Enter the x-coordinate [0-2]: 1\n",
            "Enter the y-coordinate [0-2]: 0\n",
            "That coordinate is already taken. Please try again.\n",
            "\n",
            "\n",
            "It is your turn\n",
            "\n",
            "Enter the x-coordinate [0-2]: 1\n",
            "Enter the y-coordinate [0-2]: 2\n",
            "That coordinate is already taken. Please try again.\n",
            "\n",
            "\n",
            "It is your turn\n",
            "\n",
            "Enter the x-coordinate [0-2]: 02\n",
            "Enter the y-coordinate [0-2]: 1\n",
            "O _ _ \n",
            "X O X \n",
            "_ X _ \n",
            "\n",
            "\n",
            "The is computer is playing its turn\n",
            "O _ _ \n",
            "X O X \n",
            "_ X O \n",
            "You have lost!\n"
          ]
        }
      ]
    }
  ]
}